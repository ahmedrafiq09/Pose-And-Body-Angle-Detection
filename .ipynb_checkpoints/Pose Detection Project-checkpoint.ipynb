{
 "cells": [
  {
   "cell_type": "code",
   "execution_count": 1,
   "id": "3bf4f983",
   "metadata": {
    "scrolled": true
   },
   "outputs": [
    {
     "name": "stdout",
     "output_type": "stream",
     "text": [
      "Requirement already satisfied: mediapipe in c:\\users\\ahmed_rafiq\\anaconda3\\lib\\site-packages (0.10.8)\n",
      "Requirement already satisfied: opencv-python in c:\\users\\ahmed_rafiq\\anaconda3\\lib\\site-packages (4.8.1.78)\n",
      "Requirement already satisfied: absl-py in c:\\users\\ahmed_rafiq\\anaconda3\\lib\\site-packages (from mediapipe) (2.0.0)\n",
      "Requirement already satisfied: attrs>=19.1.0 in c:\\users\\ahmed_rafiq\\anaconda3\\lib\\site-packages (from mediapipe) (22.1.0)\n",
      "Requirement already satisfied: flatbuffers>=2.0 in c:\\users\\ahmed_rafiq\\anaconda3\\lib\\site-packages (from mediapipe) (23.5.26)\n",
      "Requirement already satisfied: matplotlib in c:\\users\\ahmed_rafiq\\anaconda3\\lib\\site-packages (from mediapipe) (3.7.2)\n",
      "Requirement already satisfied: numpy in c:\\users\\ahmed_rafiq\\anaconda3\\lib\\site-packages (from mediapipe) (1.24.3)\n",
      "Requirement already satisfied: opencv-contrib-python in c:\\users\\ahmed_rafiq\\anaconda3\\lib\\site-packages (from mediapipe) (4.8.1.78)\n",
      "Requirement already satisfied: protobuf<4,>=3.11 in c:\\users\\ahmed_rafiq\\anaconda3\\lib\\site-packages (from mediapipe) (3.20.3)\n",
      "Requirement already satisfied: sounddevice>=0.4.4 in c:\\users\\ahmed_rafiq\\anaconda3\\lib\\site-packages (from mediapipe) (0.4.6)\n",
      "Requirement already satisfied: CFFI>=1.0 in c:\\users\\ahmed_rafiq\\anaconda3\\lib\\site-packages (from sounddevice>=0.4.4->mediapipe) (1.15.1)\n",
      "Requirement already satisfied: contourpy>=1.0.1 in c:\\users\\ahmed_rafiq\\anaconda3\\lib\\site-packages (from matplotlib->mediapipe) (1.0.5)\n",
      "Requirement already satisfied: cycler>=0.10 in c:\\users\\ahmed_rafiq\\anaconda3\\lib\\site-packages (from matplotlib->mediapipe) (0.11.0)\n",
      "Requirement already satisfied: fonttools>=4.22.0 in c:\\users\\ahmed_rafiq\\anaconda3\\lib\\site-packages (from matplotlib->mediapipe) (4.25.0)\n",
      "Requirement already satisfied: kiwisolver>=1.0.1 in c:\\users\\ahmed_rafiq\\anaconda3\\lib\\site-packages (from matplotlib->mediapipe) (1.4.4)\n",
      "Requirement already satisfied: packaging>=20.0 in c:\\users\\ahmed_rafiq\\anaconda3\\lib\\site-packages (from matplotlib->mediapipe) (23.1)\n",
      "Requirement already satisfied: pillow>=6.2.0 in c:\\users\\ahmed_rafiq\\anaconda3\\lib\\site-packages (from matplotlib->mediapipe) (9.4.0)\n",
      "Requirement already satisfied: pyparsing<3.1,>=2.3.1 in c:\\users\\ahmed_rafiq\\anaconda3\\lib\\site-packages (from matplotlib->mediapipe) (3.0.9)\n",
      "Requirement already satisfied: python-dateutil>=2.7 in c:\\users\\ahmed_rafiq\\anaconda3\\lib\\site-packages (from matplotlib->mediapipe) (2.8.2)\n",
      "Requirement already satisfied: pycparser in c:\\users\\ahmed_rafiq\\anaconda3\\lib\\site-packages (from CFFI>=1.0->sounddevice>=0.4.4->mediapipe) (2.21)\n",
      "Requirement already satisfied: six>=1.5 in c:\\users\\ahmed_rafiq\\anaconda3\\lib\\site-packages (from python-dateutil>=2.7->matplotlib->mediapipe) (1.16.0)\n"
     ]
    }
   ],
   "source": [
    "!pip install mediapipe opencv-python"
   ]
  },
  {
   "cell_type": "code",
   "execution_count": 2,
   "id": "6b4b0f91",
   "metadata": {},
   "outputs": [],
   "source": [
    "import cv2\n",
    "import mediapipe as mp\n",
    "import numpy as np\n",
    "mp_drawing =mp.solutions.drawing_utils\n",
    "mp_pose = mp.solutions.pose"
   ]
  },
  {
   "cell_type": "code",
   "execution_count": 3,
   "id": "974c7172",
   "metadata": {},
   "outputs": [],
   "source": [
    "cap = cv2.VideoCapture(0)\n",
    "while cap.isOpened():\n",
    "    ret,frame = cap.read()\n",
    "    cv2.imshow('Mediaframe Feed', frame)\n",
    "    \n",
    "    if cv2.waitKey(10) & 0xFF == ord('q'):\n",
    "        break\n",
    "    \n",
    "cap.release()\n",
    "cv2.destroyAllWindows()"
   ]
  },
  {
   "cell_type": "code",
   "execution_count": 4,
   "id": "60063724",
   "metadata": {},
   "outputs": [],
   "source": [
    "cap = cv2.VideoCapture(0)\n",
    "with mp_pose.Pose(min_detection_confidence = 0.5, min_tracking_confidence = 0.5 ) as pose:\n",
    "    while cap.isOpened():\n",
    "        ret,frame = cap.read()\n",
    "        \n",
    "        image = cv2.cvtColor(frame, cv2.COLOR_BGR2RGB)\n",
    "        image.flags.writeable = False\n",
    "        \n",
    "        results = pose.process(image)\n",
    "        \n",
    "        image.flags.writeable = True\n",
    "        image = cv2.cvtColor(image,cv2.COLOR_RGB2BGR)\n",
    "        \n",
    "        \n",
    "        try:\n",
    "            landmarks = results.pose_landmarks.landmark\n",
    "        except:\n",
    "            pass\n",
    "            \n",
    "        \n",
    "        mp_drawing.draw_landmarks(image,results.pose_landmarks,mp_pose.POSE_CONNECTIONS,\n",
    "                                 mp_drawing.DrawingSpec(color = (190,10,70),thickness = 3, circle_radius = 3),\n",
    "                                 mp_drawing.DrawingSpec(color = (190,90,170),thickness = 3, circle_radius = 3)\n",
    "                                 )\n",
    "        \n",
    "        cv2.imshow('Mediaframe Feed', image)\n",
    "\n",
    "        if cv2.waitKey(10) & 0xFF == ord('q'):\n",
    "            break\n",
    "\n",
    "    cap.release()\n",
    "    cv2.destroyAllWindows()"
   ]
  },
  {
   "cell_type": "markdown",
   "id": "64303761",
   "metadata": {},
   "source": [
    "![](joints.png)"
   ]
  },
  {
   "cell_type": "code",
   "execution_count": 5,
   "id": "aa0da992",
   "metadata": {},
   "outputs": [
    {
     "data": {
      "text/plain": [
       "33"
      ]
     },
     "execution_count": 5,
     "metadata": {},
     "output_type": "execute_result"
    }
   ],
   "source": [
    "len(landmarks)"
   ]
  },
  {
   "cell_type": "code",
   "execution_count": 6,
   "id": "03ad9d25",
   "metadata": {},
   "outputs": [
    {
     "data": {
      "text/plain": [
       "x: 1.096127\n",
       "y: 0.8773988\n",
       "z: -0.44905204\n",
       "visibility: 0.9475346"
      ]
     },
     "execution_count": 6,
     "metadata": {},
     "output_type": "execute_result"
    }
   ],
   "source": [
    "landmarks[mp_pose.PoseLandmark.LEFT_SHOULDER.value]"
   ]
  },
  {
   "cell_type": "code",
   "execution_count": 7,
   "id": "c9665b05",
   "metadata": {},
   "outputs": [
    {
     "data": {
      "text/plain": [
       "x: 0.31500715\n",
       "y: 1.9252789\n",
       "z: -1.2352061\n",
       "visibility: 0.30907792"
      ]
     },
     "execution_count": 7,
     "metadata": {},
     "output_type": "execute_result"
    }
   ],
   "source": [
    "landmarks[mp_pose.PoseLandmark.RIGHT_WRIST.value]"
   ]
  },
  {
   "cell_type": "code",
   "execution_count": 8,
   "id": "5f93cbcc",
   "metadata": {},
   "outputs": [
    {
     "data": {
      "text/plain": [
       "x: 0.7962837\n",
       "y: 0.48793104\n",
       "z: -1.6855456\n",
       "visibility: 0.998903"
      ]
     },
     "execution_count": 8,
     "metadata": {},
     "output_type": "execute_result"
    }
   ],
   "source": [
    "landmarks[mp_pose.PoseLandmark.NOSE.value]"
   ]
  },
  {
   "cell_type": "code",
   "execution_count": 9,
   "id": "b8590617",
   "metadata": {},
   "outputs": [],
   "source": [
    "#FUNCTION FOR LEFT ELBOW ANGLE\n",
    "def calculate_angle(a,b,c):\n",
    "    a = np.array(a) #For First\n",
    "    b = np.array(b) # For Mid\n",
    "    c = np.array(c) # For End\n",
    "    \n",
    "    radians = np.arctan2(c[1]-b[1],c[0]-b[0]) - np.arctan2(a[1]-b[1],a[0]-b[0])\n",
    "    angle = np.abs(radians*180.0/np.pi)\n",
    "    \n",
    "    if angle > 180.0:\n",
    "        angle = 360-angle\n",
    "        \n",
    "    return angle"
   ]
  },
  {
   "cell_type": "code",
   "execution_count": 10,
   "id": "a28f1027",
   "metadata": {},
   "outputs": [],
   "source": [
    "#FUNCTION FOR RIGHT ELBOW ANGLE\n",
    "def calculate_angle_r(d,e,f):\n",
    "    d = np.array(d) #For First\n",
    "    e = np.array(e) # For Mid\n",
    "    f = np.array(f) # For End\n",
    "    \n",
    "    radians = np.arctan2(f[1]-e[1],f[0]-e[0]) - np.arctan2(d[1]-e[1],d[0]-e[0])\n",
    "    angle = np.abs(radians*180.0/np.pi)\n",
    "    \n",
    "    if angle > 180.0:\n",
    "        angle = 360-angle\n",
    "        \n",
    "    return angle"
   ]
  },
  {
   "cell_type": "code",
   "execution_count": 11,
   "id": "3a5b6492",
   "metadata": {},
   "outputs": [],
   "source": [
    "#FUNCTION FOR RIGHT SHOULDER ANGLE\n",
    "def calculate_angle_r_sh(g,h,i):\n",
    "    g = np.array(g) #For First\n",
    "    h = np.array(h) # For Mid\n",
    "    i = np.array(i) # For End\n",
    "    \n",
    "    radians = np.arctan2(i[1]-h[1],i[0]-h[0]) - np.arctan2(g[1]-h[1],g[0]-h[0])\n",
    "    angle = np.abs(radians*180.0/np.pi)\n",
    "    \n",
    "    if angle > 180.0:\n",
    "        angle = 360-angle\n",
    "        \n",
    "    return angle"
   ]
  },
  {
   "cell_type": "code",
   "execution_count": 12,
   "id": "92834b70",
   "metadata": {},
   "outputs": [],
   "source": [
    "#FUNCTION FOR lEFT SHOULDER ANGLE\n",
    "def calculate_angle_l_sh(j,k,l):\n",
    "    j = np.array(j) #For First\n",
    "    k = np.array(k) # For Mid\n",
    "    l = np.array(l) # For End\n",
    "    \n",
    "    radians = np.arctan2(l[1]-k[1],l[0]-k[0]) - np.arctan2(j[1]-k[1],j[0]-k[0])\n",
    "    angle = np.abs(radians*180.0/np.pi)\n",
    "    \n",
    "    if angle > 180.0:\n",
    "        angle = 360-angle\n",
    "        \n",
    "    return angle"
   ]
  },
  {
   "cell_type": "code",
   "execution_count": 13,
   "id": "1bc3fcfc",
   "metadata": {},
   "outputs": [],
   "source": [
    "#Function For right hip angle\n",
    "def calculate_angle_r_hip(m,n,o):\n",
    "    m = np.array(m) #For First\n",
    "    n = np.array(n) # For Mid\n",
    "    o = np.array(o) # For End\n",
    "    \n",
    "    radians = np.arctan2(o[1]-n[1],o[0]-n[0]) - np.arctan2(m[1]-n[1],m[0]-n[0])\n",
    "    angle = np.abs(radians*180.0/np.pi)\n",
    "    \n",
    "    if angle > 180.0:\n",
    "        angle = 360-angle\n",
    "        \n",
    "    return angle"
   ]
  },
  {
   "cell_type": "code",
   "execution_count": 14,
   "id": "822efb7e",
   "metadata": {},
   "outputs": [],
   "source": [
    "#Function For left hip angle\n",
    "def calculate_angle_l_hip(p,q,r):\n",
    "    p = np.array(p) #For First\n",
    "    q = np.array(q) # For Mid\n",
    "    r = np.array(r) # For End\n",
    "    \n",
    "    radians = np.arctan2(r[1]-q[1],r[0]-q[0]) - np.arctan2(p[1]-q[1],p[0]-q[0])\n",
    "    angle = np.abs(radians*180.0/np.pi)\n",
    "    \n",
    "    if angle > 180.0:\n",
    "        angle = 360-angle\n",
    "        \n",
    "    return angle"
   ]
  },
  {
   "cell_type": "code",
   "execution_count": 15,
   "id": "cec55ef7",
   "metadata": {},
   "outputs": [],
   "source": [
    "#Function For right knee angle\n",
    "def calculate_angle_r_knee(s,t,u):\n",
    "    s = np.array(s) #For First\n",
    "    t = np.array(t) # For Mid\n",
    "    u = np.array(u) # For End\n",
    "    \n",
    "    radians = np.arctan2(u[1]-t[1],u[0]-t[0]) - np.arctan2(s[1]-t[1],s[0]-t[0])\n",
    "    angle = np.abs(radians*180.0/np.pi)\n",
    "    \n",
    "    if angle > 180.0:\n",
    "        angle = 360-angle\n",
    "        \n",
    "    return angle"
   ]
  },
  {
   "cell_type": "code",
   "execution_count": 16,
   "id": "dfbfcea2",
   "metadata": {},
   "outputs": [],
   "source": [
    "#Function For left knee angle\n",
    "def calculate_angle_l_knee(v,w,x):\n",
    "    v = np.array(v) #For First\n",
    "    w = np.array(w) # For Mid\n",
    "    x = np.array(x) # For End\n",
    "    \n",
    "    radians = np.arctan2(x[1]-w[1],x[0]-w[0]) - np.arctan2(v[1]-w[1],v[0]-w[0])\n",
    "    angle = np.abs(radians*180.0/np.pi)\n",
    "    \n",
    "    if angle > 180.0:\n",
    "        angle = 360-angle\n",
    "        \n",
    "    return angle"
   ]
  },
  {
   "cell_type": "code",
   "execution_count": 17,
   "id": "958697f3",
   "metadata": {},
   "outputs": [],
   "source": [
    "#FOR LEFT ELBOW ANGLE\n",
    "shoulder = [landmarks[mp_pose.PoseLandmark.LEFT_SHOULDER.value].x, landmarks[mp_pose.PoseLandmark.LEFT_SHOULDER.value].y]\n",
    "elbow = [landmarks[mp_pose.PoseLandmark.LEFT_ELBOW.value].x, landmarks[mp_pose.PoseLandmark.LEFT_ELBOW.value].y]\n",
    "wrist = [landmarks[mp_pose.PoseLandmark.LEFT_WRIST.value].x, landmarks[mp_pose.PoseLandmark.LEFT_WRIST.value].y]"
   ]
  },
  {
   "cell_type": "code",
   "execution_count": 18,
   "id": "a4b67a71",
   "metadata": {},
   "outputs": [],
   "source": [
    "#FOR RIGHT ELBOW ANGLE\n",
    "r_shoulder = [landmarks[mp_pose.PoseLandmark.RIGHT_SHOULDER.value].x, landmarks[mp_pose.PoseLandmark.RIGHT_SHOULDER.value].y]\n",
    "r_elbow = [landmarks[mp_pose.PoseLandmark.RIGHT_ELBOW.value].x, landmarks[mp_pose.PoseLandmark.RIGHT_ELBOW.value].y]\n",
    "r_wrist = [landmarks[mp_pose.PoseLandmark.RIGHT_WRIST.value].x, landmarks[mp_pose.PoseLandmark.RIGHT_WRIST.value].y]"
   ]
  },
  {
   "cell_type": "code",
   "execution_count": 19,
   "id": "c626b544",
   "metadata": {},
   "outputs": [],
   "source": [
    "#FOR RIGHT SHOULDER ANGLE\n",
    "r_sh_elbow = [landmarks[mp_pose.PoseLandmark.RIGHT_ELBOW.value].x, landmarks[mp_pose.PoseLandmark.RIGHT_ELBOW.value].y]\n",
    "r_sh_shoulder = [landmarks[mp_pose.PoseLandmark.RIGHT_SHOULDER.value].x, landmarks[mp_pose.PoseLandmark.RIGHT_SHOULDER.value].y]\n",
    "r_sh_hip = [landmarks[mp_pose.PoseLandmark.RIGHT_HIP.value].x, landmarks[mp_pose.PoseLandmark.RIGHT_HIP.value].y]"
   ]
  },
  {
   "cell_type": "code",
   "execution_count": 20,
   "id": "dff0aa77",
   "metadata": {},
   "outputs": [],
   "source": [
    "#FOR LEFT SHOULDER ANGLE\n",
    "l_sh_elbow = [landmarks[mp_pose.PoseLandmark.LEFT_ELBOW.value].x, landmarks[mp_pose.PoseLandmark.LEFT_ELBOW.value].y]\n",
    "l_sh_shoulder = [landmarks[mp_pose.PoseLandmark.LEFT_SHOULDER.value].x, landmarks[mp_pose.PoseLandmark.LEFT_SHOULDER.value].y]\n",
    "l_sh_hip = [landmarks[mp_pose.PoseLandmark.LEFT_HIP.value].x, landmarks[mp_pose.PoseLandmark.LEFT_HIP.value].y]"
   ]
  },
  {
   "cell_type": "code",
   "execution_count": 21,
   "id": "af27b3dc",
   "metadata": {},
   "outputs": [],
   "source": [
    "#FOR Right Hip ANGLE\n",
    "r_hip_shoulder = [landmarks[mp_pose.PoseLandmark.RIGHT_SHOULDER.value].x, landmarks[mp_pose.PoseLandmark.RIGHT_SHOULDER.value].y]\n",
    "r_hip_hip = [landmarks[mp_pose.PoseLandmark.RIGHT_HIP.value].x, landmarks[mp_pose.PoseLandmark.RIGHT_HIP.value].y]\n",
    "r_hip_knee = [landmarks[mp_pose.PoseLandmark.RIGHT_KNEE.value].x, landmarks[mp_pose.PoseLandmark.RIGHT_KNEE.value].y]"
   ]
  },
  {
   "cell_type": "code",
   "execution_count": 22,
   "id": "6b049383",
   "metadata": {},
   "outputs": [],
   "source": [
    "#FOR Left Hip ANGLE\n",
    "l_hip_shoulder = [landmarks[mp_pose.PoseLandmark.LEFT_SHOULDER.value].x, landmarks[mp_pose.PoseLandmark.LEFT_SHOULDER.value].y]\n",
    "l_hip_hip = [landmarks[mp_pose.PoseLandmark.LEFT_HIP.value].x, landmarks[mp_pose.PoseLandmark.LEFT_HIP.value].y]\n",
    "l_hip_knee = [landmarks[mp_pose.PoseLandmark.LEFT_KNEE.value].x, landmarks[mp_pose.PoseLandmark.LEFT_KNEE.value].y]"
   ]
  },
  {
   "cell_type": "code",
   "execution_count": 23,
   "id": "c7df10e2",
   "metadata": {},
   "outputs": [],
   "source": [
    "#FOR Right Knee ANGLE\n",
    "r_knee_hip = [landmarks[mp_pose.PoseLandmark.RIGHT_HIP.value].x, landmarks[mp_pose.PoseLandmark.RIGHT_HIP.value].y]\n",
    "r_knee_knee = [landmarks[mp_pose.PoseLandmark.RIGHT_KNEE.value].x, landmarks[mp_pose.PoseLandmark.RIGHT_KNEE.value].y]\n",
    "r_knee_ankle = [landmarks[mp_pose.PoseLandmark.RIGHT_ANKLE.value].x, landmarks[mp_pose.PoseLandmark.RIGHT_ANKLE.value].y]"
   ]
  },
  {
   "cell_type": "code",
   "execution_count": 24,
   "id": "f2db13a6",
   "metadata": {},
   "outputs": [],
   "source": [
    "#FOR left Knee ANGLE\n",
    "l_knee_hip = [landmarks[mp_pose.PoseLandmark.LEFT_HIP.value].x, landmarks[mp_pose.PoseLandmark.LEFT_HIP.value].y]\n",
    "l_knee_knee = [landmarks[mp_pose.PoseLandmark.LEFT_KNEE.value].x, landmarks[mp_pose.PoseLandmark.LEFT_KNEE.value].y]\n",
    "l_knee_ankle = [landmarks[mp_pose.PoseLandmark.LEFT_ANKLE.value].x, landmarks[mp_pose.PoseLandmark.LEFT_ANKLE.value].y]"
   ]
  },
  {
   "cell_type": "code",
   "execution_count": 25,
   "id": "5e013700",
   "metadata": {},
   "outputs": [
    {
     "data": {
      "text/plain": [
       "([0.9905608296394348, 1.9798305034637451],\n",
       " [0.9764921069145203, 2.847165584564209],\n",
       " [0.9832169413566589, 3.63508939743042])"
      ]
     },
     "execution_count": 25,
     "metadata": {},
     "output_type": "execute_result"
    }
   ],
   "source": [
    "l_knee_hip,l_knee_knee,l_knee_ankle"
   ]
  },
  {
   "cell_type": "code",
   "execution_count": 26,
   "id": "b131b10e",
   "metadata": {},
   "outputs": [
    {
     "data": {
      "text/plain": [
       "([0.569579541683197, 1.9790786504745483],\n",
       " [0.5887966156005859, 2.8489181995391846],\n",
       " [0.6234374642372131, 3.625898838043213])"
      ]
     },
     "execution_count": 26,
     "metadata": {},
     "output_type": "execute_result"
    }
   ],
   "source": [
    "r_knee_hip,r_knee_knee,r_knee_ankle"
   ]
  },
  {
   "cell_type": "code",
   "execution_count": 27,
   "id": "668dace8",
   "metadata": {},
   "outputs": [
    {
     "data": {
      "text/plain": [
       "([1.0961270332336426, 0.8773987889289856],\n",
       " [0.9905608296394348, 1.9798305034637451],\n",
       " [0.9764921069145203, 2.847165584564209])"
      ]
     },
     "execution_count": 27,
     "metadata": {},
     "output_type": "execute_result"
    }
   ],
   "source": [
    "l_hip_shoulder,l_hip_hip,l_hip_knee"
   ]
  },
  {
   "cell_type": "code",
   "execution_count": 28,
   "id": "22e06048",
   "metadata": {},
   "outputs": [
    {
     "data": {
      "text/plain": [
       "([0.4399595260620117, 0.8794448375701904],\n",
       " [0.569579541683197, 1.9790786504745483],\n",
       " [0.5887966156005859, 2.8489181995391846])"
      ]
     },
     "execution_count": 28,
     "metadata": {},
     "output_type": "execute_result"
    }
   ],
   "source": [
    "r_hip_shoulder,r_hip_hip,r_hip_knee"
   ]
  },
  {
   "cell_type": "code",
   "execution_count": 29,
   "id": "56223124",
   "metadata": {},
   "outputs": [
    {
     "data": {
      "text/plain": [
       "([1.2163567543029785, 1.373468279838562],\n",
       " [1.0961270332336426, 0.8773987889289856],\n",
       " [0.9905608296394348, 1.9798305034637451])"
      ]
     },
     "execution_count": 29,
     "metadata": {},
     "output_type": "execute_result"
    }
   ],
   "source": [
    "l_sh_elbow,l_sh_shoulder,l_sh_hip"
   ]
  },
  {
   "cell_type": "code",
   "execution_count": 30,
   "id": "2f4b66d8",
   "metadata": {},
   "outputs": [
    {
     "data": {
      "text/plain": [
       "([0.26425379514694214, 1.4581043720245361],\n",
       " [0.4399595260620117, 0.8794448375701904],\n",
       " [0.569579541683197, 1.9790786504745483])"
      ]
     },
     "execution_count": 30,
     "metadata": {},
     "output_type": "execute_result"
    }
   ],
   "source": [
    "r_sh_elbow,r_sh_shoulder,r_sh_hip"
   ]
  },
  {
   "cell_type": "code",
   "execution_count": 31,
   "id": "74f84b15",
   "metadata": {},
   "outputs": [
    {
     "data": {
      "text/plain": [
       "([1.0961270332336426, 0.8773987889289856],\n",
       " [1.2163567543029785, 1.373468279838562],\n",
       " [1.2033064365386963, 1.7521151304244995])"
      ]
     },
     "execution_count": 31,
     "metadata": {},
     "output_type": "execute_result"
    }
   ],
   "source": [
    "shoulder,elbow,wrist"
   ]
  },
  {
   "cell_type": "code",
   "execution_count": 32,
   "id": "85182af3",
   "metadata": {},
   "outputs": [
    {
     "data": {
      "text/plain": [
       "([0.4399595260620117, 0.8794448375701904],\n",
       " [0.26425379514694214, 1.4581043720245361],\n",
       " [0.31500715017318726, 1.925278902053833])"
      ]
     },
     "execution_count": 32,
     "metadata": {},
     "output_type": "execute_result"
    }
   ],
   "source": [
    "r_shoulder,r_elbow,r_wrist"
   ]
  },
  {
   "cell_type": "code",
   "execution_count": 33,
   "id": "dab7003e",
   "metadata": {},
   "outputs": [
    {
     "data": {
      "text/plain": [
       "164.4022725650728"
      ]
     },
     "execution_count": 33,
     "metadata": {},
     "output_type": "execute_result"
    }
   ],
   "source": [
    "calculate_angle(shoulder,elbow,wrist)"
   ]
  },
  {
   "cell_type": "code",
   "execution_count": 34,
   "id": "8ee31d55",
   "metadata": {},
   "outputs": [
    {
     "data": {
      "text/plain": [
       "156.90923351825677"
      ]
     },
     "execution_count": 34,
     "metadata": {},
     "output_type": "execute_result"
    }
   ],
   "source": [
    "calculate_angle_r(r_shoulder,r_elbow,r_wrist)"
   ]
  },
  {
   "cell_type": "code",
   "execution_count": 35,
   "id": "934b94eb",
   "metadata": {},
   "outputs": [],
   "source": [
    "cap = cv2.VideoCapture(0)\n",
    "with mp_pose.Pose(min_detection_confidence = 0.5, min_tracking_confidence = 0.5 ) as pose:\n",
    "    while cap.isOpened():\n",
    "        ret,frame = cap.read()\n",
    "        \n",
    "        image = cv2.cvtColor(frame, cv2.COLOR_BGR2RGB)\n",
    "        image.flags.writeable = False\n",
    "        \n",
    "        results = pose.process(image)\n",
    "        \n",
    "        image.flags.writeable = True\n",
    "        image = cv2.cvtColor(image,cv2.COLOR_RGB2BGR)\n",
    "        \n",
    "        \n",
    "        try:\n",
    "            landmarks = results.pose_landmarks.landmark\n",
    "            \n",
    "            #Co-ordinates of left elbow angle\n",
    "            shoulder = [landmarks[mp_pose.PoseLandmark.LEFT_SHOULDER.value].x, landmarks[mp_pose.PoseLandmark.LEFT_SHOULDER.value].y]\n",
    "            elbow = [landmarks[mp_pose.PoseLandmark.LEFT_ELBOW.value].x, landmarks[mp_pose.PoseLandmark.LEFT_ELBOW.value].y]\n",
    "            wrist = [landmarks[mp_pose.PoseLandmark.LEFT_WRIST.value].x, landmarks[mp_pose.PoseLandmark.LEFT_WRIST.value].y]\n",
    "            \n",
    "            #Function of left elbow\n",
    "            angle = calculate_angle(shoulder,elbow,wrist)\n",
    "            #Load To The Open CV Here\n",
    "            cv2.putText(image, str(angle),\n",
    "                       tuple(np.multiply(elbow,[640,480]).astype(int)),\n",
    "                            cv2.FONT_HERSHEY_SIMPLEX, 0.5,(255,225,225),2,cv2.LINE_AA\n",
    "                       )\n",
    "            \n",
    "            \n",
    "            \n",
    "            #Co-ordinates of right elbow angle\n",
    "            r_shoulder = [landmarks[mp_pose.PoseLandmark.RIGHT_SHOULDER.value].x, landmarks[mp_pose.PoseLandmark.RIGHT_SHOULDER.value].y]\n",
    "            r_elbow = [landmarks[mp_pose.PoseLandmark.RIGHT_ELBOW.value].x, landmarks[mp_pose.PoseLandmark.RIGHT_ELBOW.value].y]\n",
    "            r_wrist = [landmarks[mp_pose.PoseLandmark.RIGHT_WRIST.value].x, landmarks[mp_pose.PoseLandmark.RIGHT_WRIST.value].y]\n",
    "            \n",
    "            #Function of right elbow\n",
    "            angle_r = calculate_angle_r(r_shoulder,r_elbow,r_wrist)\n",
    "            # Load To The Open CV\n",
    "            cv2.putText(image, str(angle_r),\n",
    "                       tuple(np.multiply(r_elbow,[640,480]).astype(int)),\n",
    "                            cv2.FONT_HERSHEY_SIMPLEX, 0.5,(225,225,225),2,cv2.LINE_AA\n",
    "                       )\n",
    "            \n",
    "            \n",
    "            \n",
    "            #Co-ordinates of right shoulder angle\n",
    "            r_sh_elbow = [landmarks[mp_pose.PoseLandmark.RIGHT_ELBOW.value].x, landmarks[mp_pose.PoseLandmark.RIGHT_ELBOW.value].y]\n",
    "            r_sh_shoulder = [landmarks[mp_pose.PoseLandmark.RIGHT_SHOULDER.value].x, landmarks[mp_pose.PoseLandmark.RIGHT_SHOULDER.value].y]\n",
    "            r_sh_hip = [landmarks[mp_pose.PoseLandmark.RIGHT_HIP.value].x, landmarks[mp_pose.PoseLandmark.RIGHT_HIP.value].y]\n",
    "            #Load the Right Shoulder Function\n",
    "            angle_r_sh = calculate_angle_r_sh(r_sh_elbow,r_sh_shoulder,r_sh_hip)\n",
    "            #Load To OpenCv\n",
    "            cv2.putText(image, str(angle_r_sh),\n",
    "                       tuple(np.multiply(r_sh_shoulder,[640,480]).astype(int)),\n",
    "                            cv2.FONT_HERSHEY_SIMPLEX, 0.5,(225,225,225),2,cv2.LINE_AA\n",
    "                       )\n",
    "\n",
    "            \n",
    "            \n",
    "            #Co-ordinates of left shoulder angle\n",
    "            l_sh_elbow = [landmarks[mp_pose.PoseLandmark.LEFT_ELBOW.value].x, landmarks[mp_pose.PoseLandmark.LEFT_ELBOW.value].y]\n",
    "            l_sh_shoulder = [landmarks[mp_pose.PoseLandmark.LEFT_SHOULDER.value].x, landmarks[mp_pose.PoseLandmark.LEFT_SHOULDER.value].y]\n",
    "            l_sh_hip = [landmarks[mp_pose.PoseLandmark.LEFT_HIP.value].x, landmarks[mp_pose.PoseLandmark.LEFT_HIP.value].y]\n",
    "            \n",
    "            #Function of left shoulder angle\n",
    "            angle_l_sh = calculate_angle_l_sh(l_sh_elbow,l_sh_shoulder,l_sh_hip)\n",
    "              #Load To OpenCv\n",
    "            cv2.putText(image, str(angle_l_sh),\n",
    "                       tuple(np.multiply(l_sh_shoulder,[640,480]).astype(int)),\n",
    "                            cv2.FONT_HERSHEY_SIMPLEX, 0.5,(225,225,225),2,cv2.LINE_AA\n",
    "                       )\n",
    "            \n",
    "            \n",
    "            #Co-ordinates of right hip angle\n",
    "            r_hip_shoulder = [landmarks[mp_pose.PoseLandmark.RIGHT_SHOULDER.value].x, landmarks[mp_pose.PoseLandmark.RIGHT_SHOULDER.value].y]\n",
    "            r_hip_hip = [landmarks[mp_pose.PoseLandmark.RIGHT_HIP.value].x, landmarks[mp_pose.PoseLandmark.RIGHT_HIP.value].y]\n",
    "            r_hip_knee = [landmarks[mp_pose.PoseLandmark.RIGHT_KNEE.value].x, landmarks[mp_pose.PoseLandmark.RIGHT_KNEE.value].y]\n",
    "            \n",
    "             #Function of right hip angle\n",
    "            angle_r_hip = calculate_angle_r_hip(r_hip_shoulder,r_hip_hip,r_hip_knee)\n",
    "            \n",
    "             #Load To OpenCv\n",
    "            cv2.putText(image, str(angle_r_hip),\n",
    "                       tuple(np.multiply(r_hip_hip,[640,480]).astype(int)),\n",
    "                            cv2.FONT_HERSHEY_SIMPLEX, 0.5,(225,225,225),2,cv2.LINE_AA\n",
    "                       )\n",
    "            \n",
    "            \n",
    "            #Co-Ordinates of Left Hip ANGLE\n",
    "            l_hip_shoulder = [landmarks[mp_pose.PoseLandmark.LEFT_SHOULDER.value].x, landmarks[mp_pose.PoseLandmark.LEFT_SHOULDER.value].y]\n",
    "            l_hip_hip = [landmarks[mp_pose.PoseLandmark.LEFT_HIP.value].x, landmarks[mp_pose.PoseLandmark.LEFT_HIP.value].y]\n",
    "            l_hip_knee = [landmarks[mp_pose.PoseLandmark.LEFT_KNEE.value].x, landmarks[mp_pose.PoseLandmark.LEFT_KNEE.value].y]\n",
    "            \n",
    "             #Function of left hip angle\n",
    "            angle_l_hip = calculate_angle_l_hip(l_hip_shoulder,l_hip_hip,l_hip_knee)\n",
    "            \n",
    "            #Load To OpenCv\n",
    "            cv2.putText(image, str(angle_l_hip),\n",
    "                       tuple(np.multiply(l_hip_hip,[640,480]).astype(int)),\n",
    "                            cv2.FONT_HERSHEY_SIMPLEX, 0.5,(225,225,225),2,cv2.LINE_AA\n",
    "                       )\n",
    "            \n",
    "            \n",
    "            #FOR Right Knee ANGLE\n",
    "            r_knee_hip = [landmarks[mp_pose.PoseLandmark.RIGHT_HIP.value].x, landmarks[mp_pose.PoseLandmark.RIGHT_HIP.value].y]\n",
    "            r_knee_knee = [landmarks[mp_pose.PoseLandmark.RIGHT_KNEE.value].x, landmarks[mp_pose.PoseLandmark.RIGHT_KNEE.value].y]\n",
    "            r_knee_ankle = [landmarks[mp_pose.PoseLandmark.RIGHT_ANKLE.value].x, landmarks[mp_pose.PoseLandmark.RIGHT_ANKLE.value].y]\n",
    "            \n",
    "            \n",
    "             #Function of right knee angle\n",
    "            angle_r_knee = calculate_angle_r_knee(r_knee_hip,r_knee_knee,r_knee_ankle)\n",
    "            \n",
    "            #Load To OpenCv\n",
    "            cv2.putText(image, str(angle_r_knee),\n",
    "                       tuple(np.multiply(r_knee_knee,[640,480]).astype(int)),\n",
    "                            cv2.FONT_HERSHEY_SIMPLEX, 0.5,(225,225,225),2,cv2.LINE_AA\n",
    "                       )\n",
    "            \n",
    "            #FOR left Knee ANGLE\n",
    "            l_knee_hip = [landmarks[mp_pose.PoseLandmark.LEFT_HIP.value].x, landmarks[mp_pose.PoseLandmark.LEFT_HIP.value].y]\n",
    "            l_knee_knee = [landmarks[mp_pose.PoseLandmark.LEFT_KNEE.value].x, landmarks[mp_pose.PoseLandmark.LEFT_KNEE.value].y]\n",
    "            l_knee_ankle = [landmarks[mp_pose.PoseLandmark.LEFT_ANKLE.value].x, landmarks[mp_pose.PoseLandmark.LEFT_ANKLE.value].y]\n",
    "            \n",
    "            \n",
    "             #Function of right knee angle\n",
    "            angle_l_knee = calculate_angle_l_knee(l_knee_hip,l_knee_knee,l_knee_ankle)\n",
    "            \n",
    "            \n",
    "            #Load To OpenCv\n",
    "            cv2.putText(image, str(angle_l_knee),\n",
    "                       tuple(np.multiply(l_knee_knee,[640,480]).astype(int)),\n",
    "                            cv2.FONT_HERSHEY_SIMPLEX, 0.5,(225,225,225),2,cv2.LINE_AA\n",
    "                       )\n",
    "            \n",
    "            \n",
    "            \n",
    "            \n",
    "            \n",
    "        except:\n",
    "            pass\n",
    "            \n",
    "        \n",
    "        mp_drawing.draw_landmarks(image,results.pose_landmarks,mp_pose.POSE_CONNECTIONS,\n",
    "                                 mp_drawing.DrawingSpec(color = (190,10,70),thickness = 3, circle_radius = 3),\n",
    "                                 mp_drawing.DrawingSpec(color = (190,90,170),thickness = 3, circle_radius = 3)\n",
    "                                 )\n",
    "        \n",
    "        cv2.imshow('Mediaframe Feed', image)\n",
    "\n",
    "        if cv2.waitKey(10) & 0xFF == ord('q'):\n",
    "            break\n",
    "\n",
    "    cap.release()\n",
    "    cv2.destroyAllWindows()"
   ]
  },
  {
   "cell_type": "code",
   "execution_count": null,
   "id": "eb90e4c3",
   "metadata": {},
   "outputs": [],
   "source": []
  },
  {
   "cell_type": "code",
   "execution_count": null,
   "id": "a02c9a56",
   "metadata": {},
   "outputs": [],
   "source": []
  }
 ],
 "metadata": {
  "kernelspec": {
   "display_name": "Python 3 (ipykernel)",
   "language": "python",
   "name": "python3"
  },
  "language_info": {
   "codemirror_mode": {
    "name": "ipython",
    "version": 3
   },
   "file_extension": ".py",
   "mimetype": "text/x-python",
   "name": "python",
   "nbconvert_exporter": "python",
   "pygments_lexer": "ipython3",
   "version": "3.11.5"
  }
 },
 "nbformat": 4,
 "nbformat_minor": 5
}
